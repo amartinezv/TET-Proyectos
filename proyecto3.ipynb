{
 "cells": [
  {
   "cell_type": "code",
   "execution_count": null,
   "metadata": {},
   "outputs": [],
   "source": [
    "#Proyecto 3"
   ]
  },
  {
   "cell_type": "code",
   "execution_count": 5,
   "metadata": {},
   "outputs": [
    {
     "data": {
      "application/vnd.jupyter.widget-view+json": {
       "model_id": "5975adc5fa904c57adf080d5e9189f5a",
       "version_major": 2,
       "version_minor": 0
      },
      "text/plain": [
       "VBox()"
      ]
     },
     "metadata": {},
     "output_type": "display_data"
    },
    {
     "data": {
      "application/vnd.jupyter.widget-view+json": {
       "model_id": "",
       "version_major": 2,
       "version_minor": 0
      },
      "text/plain": [
       "FloatProgress(value=0.0, bar_style='info', description='Progress:', layout=Layout(height='25px', width='50%'),…"
      ]
     },
     "metadata": {},
     "output_type": "display_data"
    }
   ],
   "source": [
    "#import SparkSession\n",
    "from pyspark.sql import SparkSession"
   ]
  },
  {
   "cell_type": "code",
   "execution_count": 6,
   "metadata": {},
   "outputs": [
    {
     "data": {
      "application/vnd.jupyter.widget-view+json": {
       "model_id": "228a1026a4c14f099cf1abaa03b37d0b",
       "version_major": 2,
       "version_minor": 0
      },
      "text/plain": [
       "VBox()"
      ]
     },
     "metadata": {},
     "output_type": "display_data"
    },
    {
     "data": {
      "application/vnd.jupyter.widget-view+json": {
       "model_id": "",
       "version_major": 2,
       "version_minor": 0
      },
      "text/plain": [
       "FloatProgress(value=0.0, bar_style='info', description='Progress:', layout=Layout(height='25px', width='50%'),…"
      ]
     },
     "metadata": {},
     "output_type": "display_data"
    }
   ],
   "source": [
    "#create spar session object\n",
    "spark=SparkSession.builder.appName('proyectotres').getOrCreate()"
   ]
  },
  {
   "cell_type": "code",
   "execution_count": null,
   "metadata": {},
   "outputs": [],
   "source": [
    "#configuramos python 3"
   ]
  },
  {
   "cell_type": "code",
   "execution_count": 7,
   "metadata": {},
   "outputs": [
    {
     "name": "stdout",
     "output_type": "stream",
     "text": [
      "Starting Spark application\n"
     ]
    },
    {
     "data": {
      "text/html": [
       "<table>\n",
       "<tr><th>ID</th><th>YARN Application ID</th><th>Kind</th><th>State</th><th>Spark UI</th><th>Driver log</th><th>Current session?</th></tr><tr><td>2</td><td>application_1589502897578_0003</td><td>pyspark</td><td>idle</td><td><a target=\"_blank\" href=\"http://ip-172-31-16-26.ec2.internal:20888/proxy/application_1589502897578_0003/\">Link</a></td><td><a target=\"_blank\" href=\"http://ip-172-31-17-78.ec2.internal:8042/node/containerlogs/container_1589502897578_0003_01_000001/livy\">Link</a></td><td>✔</td></tr></table>"
      ],
      "text/plain": [
       "<IPython.core.display.HTML object>"
      ]
     },
     "metadata": {},
     "output_type": "display_data"
    },
    {
     "data": {
      "application/vnd.jupyter.widget-view+json": {
       "model_id": "",
       "version_major": 2,
       "version_minor": 0
      },
      "text/plain": [
       "FloatProgress(value=0.0, bar_style='info', description='Progress:', layout=Layout(height='25px', width='50%'),…"
      ]
     },
     "metadata": {},
     "output_type": "display_data"
    },
    {
     "name": "stdout",
     "output_type": "stream",
     "text": [
      "SparkSession available as 'spark'.\n"
     ]
    },
    {
     "data": {
      "text/html": [
       "Current session configs: <tt>{'conf': {'spark.pyspark.python': 'python3', 'spark.pyspark.virtualenv.enabled': 'true', 'spark.pyspark.virtualenv.type': 'native', 'spark.pyspark.virtualenv.bin.path': '/usr/bin/virtualenv'}, 'kind': 'pyspark'}</tt><br>"
      ],
      "text/plain": [
       "<IPython.core.display.HTML object>"
      ]
     },
     "metadata": {},
     "output_type": "display_data"
    },
    {
     "data": {
      "text/html": [
       "<table>\n",
       "<tr><th>ID</th><th>YARN Application ID</th><th>Kind</th><th>State</th><th>Spark UI</th><th>Driver log</th><th>Current session?</th></tr><tr><td>2</td><td>application_1589502897578_0003</td><td>pyspark</td><td>idle</td><td><a target=\"_blank\" href=\"http://ip-172-31-16-26.ec2.internal:20888/proxy/application_1589502897578_0003/\">Link</a></td><td><a target=\"_blank\" href=\"http://ip-172-31-17-78.ec2.internal:8042/node/containerlogs/container_1589502897578_0003_01_000001/livy\">Link</a></td><td>✔</td></tr></table>"
      ],
      "text/plain": [
       "<IPython.core.display.HTML object>"
      ]
     },
     "metadata": {},
     "output_type": "display_data"
    }
   ],
   "source": [
    "%%configure -f\n",
    "{ \"conf\":{\n",
    "\"spark.pyspark.python\": \"python3\",\n",
    "\"spark.pyspark.virtualenv.enabled\": \"true\",\n",
    "\"spark.pyspark.virtualenv.type\":\"native\",\n",
    "\"spark.pyspark.virtualenv.bin.path\":\"/usr/bin/virtualenv\"\n",
    "}}"
   ]
  },
  {
   "cell_type": "code",
   "execution_count": 27,
   "metadata": {},
   "outputs": [
    {
     "data": {
      "application/vnd.jupyter.widget-view+json": {
       "model_id": "c9898b8eeb2c4066ba3b3ce4441ac7e9",
       "version_major": 2,
       "version_minor": 0
      },
      "text/plain": [
       "VBox()"
      ]
     },
     "metadata": {},
     "output_type": "display_data"
    },
    {
     "data": {
      "application/vnd.jupyter.widget-view+json": {
       "model_id": "",
       "version_major": 2,
       "version_minor": 0
      },
      "text/plain": [
       "FloatProgress(value=0.0, bar_style='info', description='Progress:', layout=Layout(height='25px', width='50%'),…"
      ]
     },
     "metadata": {},
     "output_type": "display_data"
    }
   ],
   "source": [
    "# carga de datos csv en spark desde un bucket S3.\n",
    "mundialconfirmed=spark.read.csv('s3://proyecto-tres/datasets/mundial/time_series_covid19_confirmed_global.csv',inferSchema=True,header=True)"
   ]
  },
  {
   "cell_type": "code",
   "execution_count": 12,
   "metadata": {},
   "outputs": [
    {
     "data": {
      "application/vnd.jupyter.widget-view+json": {
       "model_id": "e9b08fb651c4432d8746786050a821a7",
       "version_major": 2,
       "version_minor": 0
      },
      "text/plain": [
       "VBox()"
      ]
     },
     "metadata": {},
     "output_type": "display_data"
    },
    {
     "data": {
      "application/vnd.jupyter.widget-view+json": {
       "model_id": "",
       "version_major": 2,
       "version_minor": 0
      },
      "text/plain": [
       "FloatProgress(value=0.0, bar_style='info', description='Progress:', layout=Layout(height='25px', width='50%'),…"
      ]
     },
     "metadata": {},
     "output_type": "display_data"
    }
   ],
   "source": [
    "mundialconfirmedRegions=spark.read.csv('s3://proyecto-tres/datasets/mundial/time_series_covid19_confirmed_global_iso3_regions.csv',inferSchema=True,header=True)"
   ]
  },
  {
   "cell_type": "code",
   "execution_count": 14,
   "metadata": {},
   "outputs": [
    {
     "data": {
      "application/vnd.jupyter.widget-view+json": {
       "model_id": "969b59c1f298485d9fe2802ba52a930e",
       "version_major": 2,
       "version_minor": 0
      },
      "text/plain": [
       "VBox()"
      ]
     },
     "metadata": {},
     "output_type": "display_data"
    },
    {
     "data": {
      "application/vnd.jupyter.widget-view+json": {
       "model_id": "",
       "version_major": 2,
       "version_minor": 0
      },
      "text/plain": [
       "FloatProgress(value=0.0, bar_style='info', description='Progress:', layout=Layout(height='25px', width='50%'),…"
      ]
     },
     "metadata": {},
     "output_type": "display_data"
    }
   ],
   "source": [
    "mundialconfirmedNarrow=spark.read.csv('s3://proyecto-tres/datasets/mundial/time_series_covid19_confirmed_global_narrow.csv',inferSchema=True,header=True)"
   ]
  },
  {
   "cell_type": "code",
   "execution_count": 15,
   "metadata": {},
   "outputs": [
    {
     "data": {
      "application/vnd.jupyter.widget-view+json": {
       "model_id": "aa128922697543b0ae5a50f4efdba882",
       "version_major": 2,
       "version_minor": 0
      },
      "text/plain": [
       "VBox()"
      ]
     },
     "metadata": {},
     "output_type": "display_data"
    },
    {
     "data": {
      "application/vnd.jupyter.widget-view+json": {
       "model_id": "",
       "version_major": 2,
       "version_minor": 0
      },
      "text/plain": [
       "FloatProgress(value=0.0, bar_style='info', description='Progress:', layout=Layout(height='25px', width='50%'),…"
      ]
     },
     "metadata": {},
     "output_type": "display_data"
    }
   ],
   "source": [
    "mundialDeaths=spark.read.csv('s3://proyecto-tres/datasets/mundial/time_series_covid19_deaths_global.csv',inferSchema=True,header=True)"
   ]
  },
  {
   "cell_type": "code",
   "execution_count": 17,
   "metadata": {},
   "outputs": [
    {
     "data": {
      "application/vnd.jupyter.widget-view+json": {
       "model_id": "bf5557c2c4b24fc59283d6bd2402c418",
       "version_major": 2,
       "version_minor": 0
      },
      "text/plain": [
       "VBox()"
      ]
     },
     "metadata": {},
     "output_type": "display_data"
    },
    {
     "data": {
      "application/vnd.jupyter.widget-view+json": {
       "model_id": "",
       "version_major": 2,
       "version_minor": 0
      },
      "text/plain": [
       "FloatProgress(value=0.0, bar_style='info', description='Progress:', layout=Layout(height='25px', width='50%'),…"
      ]
     },
     "metadata": {},
     "output_type": "display_data"
    }
   ],
   "source": [
    "mundialDeathsRegions=spark.read.csv('s3://proyecto-tres/datasets/mundial/time_series_covid19_deaths_global_iso3_regions.csv',inferSchema=True,header=True)"
   ]
  },
  {
   "cell_type": "code",
   "execution_count": 18,
   "metadata": {},
   "outputs": [
    {
     "data": {
      "application/vnd.jupyter.widget-view+json": {
       "model_id": "42cc0f50f13147b7a7128a3575a81565",
       "version_major": 2,
       "version_minor": 0
      },
      "text/plain": [
       "VBox()"
      ]
     },
     "metadata": {},
     "output_type": "display_data"
    },
    {
     "data": {
      "application/vnd.jupyter.widget-view+json": {
       "model_id": "",
       "version_major": 2,
       "version_minor": 0
      },
      "text/plain": [
       "FloatProgress(value=0.0, bar_style='info', description='Progress:', layout=Layout(height='25px', width='50%'),…"
      ]
     },
     "metadata": {},
     "output_type": "display_data"
    }
   ],
   "source": [
    "mundialDeathsNarrow=spark.read.csv('s3://proyecto-tres/datasets/mundial/time_series_covid19_confirmed_global_narrow.csv',inferSchema=True,header=True)"
   ]
  },
  {
   "cell_type": "code",
   "execution_count": 70,
   "metadata": {},
   "outputs": [
    {
     "data": {
      "application/vnd.jupyter.widget-view+json": {
       "model_id": "53fea6e658d647f0bd442bcf807c2d1b",
       "version_major": 2,
       "version_minor": 0
      },
      "text/plain": [
       "VBox()"
      ]
     },
     "metadata": {},
     "output_type": "display_data"
    },
    {
     "data": {
      "application/vnd.jupyter.widget-view+json": {
       "model_id": "",
       "version_major": 2,
       "version_minor": 0
      },
      "text/plain": [
       "FloatProgress(value=0.0, bar_style='info', description='Progress:', layout=Layout(height='25px', width='50%'),…"
      ]
     },
     "metadata": {},
     "output_type": "display_data"
    }
   ],
   "source": [
    "colombia = spark.read.csv('s3://proyecto-tres/datasets/otros/Casos_positivos_de_COVID-19_en_Colombia.csv',inferSchema=True,header=True)"
   ]
  },
  {
   "cell_type": "code",
   "execution_count": 21,
   "metadata": {},
   "outputs": [
    {
     "data": {
      "application/vnd.jupyter.widget-view+json": {
       "model_id": "8f36a577b0eb41d681ca7b2cc64f1a87",
       "version_major": 2,
       "version_minor": 0
      },
      "text/plain": [
       "VBox()"
      ]
     },
     "metadata": {},
     "output_type": "display_data"
    },
    {
     "data": {
      "application/vnd.jupyter.widget-view+json": {
       "model_id": "",
       "version_major": 2,
       "version_minor": 0
      },
      "text/plain": [
       "FloatProgress(value=0.0, bar_style='info', description='Progress:', layout=Layout(height='25px', width='50%'),…"
      ]
     },
     "metadata": {},
     "output_type": "display_data"
    },
    {
     "name": "stdout",
     "output_type": "stream",
     "text": [
      "['Province/State', 'Country/Region', 'Lat', 'Long', '1/22/20', '1/23/20', '1/24/20', '1/25/20', '1/26/20', '1/27/20', '1/28/20', '1/29/20', '1/30/20', '1/31/20', '2/1/20', '2/2/20', '2/3/20', '2/4/20', '2/5/20', '2/6/20', '2/7/20', '2/8/20', '2/9/20', '2/10/20', '2/11/20', '2/12/20', '2/13/20', '2/14/20', '2/15/20', '2/16/20', '2/17/20', '2/18/20', '2/19/20', '2/20/20', '2/21/20', '2/22/20', '2/23/20', '2/24/20', '2/25/20', '2/26/20', '2/27/20', '2/28/20', '2/29/20', '3/1/20', '3/2/20', '3/3/20', '3/4/20', '3/5/20', '3/6/20', '3/7/20', '3/8/20', '3/9/20', '3/10/20', '3/11/20', '3/12/20', '3/13/20', '3/14/20', '3/15/20', '3/16/20', '3/17/20', '3/18/20', '3/19/20', '3/20/20', '3/21/20', '3/22/20', '3/23/20', '3/24/20', '3/25/20', '3/26/20', '3/27/20', '3/28/20', '3/29/20', '3/30/20', '3/31/20', '4/1/20', '4/2/20', '4/3/20', '4/4/20', '4/5/20', '4/6/20', '4/7/20', '4/8/20', '4/9/20', '4/10/20', '4/11/20', '4/12/20', '4/13/20', '4/14/20', '4/15/20', '4/16/20', '4/17/20', '4/18/20', '4/19/20', '4/20/20', '4/21/20', '4/22/20', '4/23/20', '4/24/20', '4/25/20', '4/26/20', '4/27/20', '4/28/20', '4/29/20', '4/30/20', '5/1/20', '5/2/20', '5/3/20', '5/4/20', '5/5/20', '5/6/20', '5/7/20', '5/8/20', '5/9/20', '5/10/20', '5/11/20', '5/12/20', '5/13/20']"
     ]
    }
   ],
   "source": [
    "#columns of dataframe\n",
    "mundialconfirmed.columns"
   ]
  },
  {
   "cell_type": "code",
   "execution_count": 29,
   "metadata": {},
   "outputs": [
    {
     "data": {
      "application/vnd.jupyter.widget-view+json": {
       "model_id": "2d4a9b9efc8b486da2cdab901b413213",
       "version_major": 2,
       "version_minor": 0
      },
      "text/plain": [
       "VBox()"
      ]
     },
     "metadata": {},
     "output_type": "display_data"
    },
    {
     "data": {
      "application/vnd.jupyter.widget-view+json": {
       "model_id": "",
       "version_major": 2,
       "version_minor": 0
      },
      "text/plain": [
       "FloatProgress(value=0.0, bar_style='info', description='Progress:', layout=Layout(height='25px', width='50%'),…"
      ]
     },
     "metadata": {},
     "output_type": "display_data"
    },
    {
     "name": "stdout",
     "output_type": "stream",
     "text": [
      "+--------------+--------------+--------+-------+-------+-------+-------+-------+-------+-------+-------+-------+-------+-------+------+------+------+------+------+------+------+------+------+-------+-------+-------+-------+-------+-------+-------+-------+-------+-------+-------+-------+-------+-------+-------+-------+-------+-------+-------+-------+------+------+------+------+------+------+------+------+------+-------+-------+-------+-------+-------+-------+-------+-------+-------+-------+-------+-------+-------+-------+-------+-------+-------+-------+-------+-------+-------+-------+------+------+------+------+------+------+------+------+------+-------+-------+-------+-------+-------+-------+-------+-------+-------+-------+-------+-------+-------+-------+-------+-------+-------+-------+-------+-------+-------+------+------+------+------+------+------+------+------+------+-------+-------+-------+-------+\n",
      "|Province/State|Country/Region|     Lat|   Long|1/22/20|1/23/20|1/24/20|1/25/20|1/26/20|1/27/20|1/28/20|1/29/20|1/30/20|1/31/20|2/1/20|2/2/20|2/3/20|2/4/20|2/5/20|2/6/20|2/7/20|2/8/20|2/9/20|2/10/20|2/11/20|2/12/20|2/13/20|2/14/20|2/15/20|2/16/20|2/17/20|2/18/20|2/19/20|2/20/20|2/21/20|2/22/20|2/23/20|2/24/20|2/25/20|2/26/20|2/27/20|2/28/20|2/29/20|3/1/20|3/2/20|3/3/20|3/4/20|3/5/20|3/6/20|3/7/20|3/8/20|3/9/20|3/10/20|3/11/20|3/12/20|3/13/20|3/14/20|3/15/20|3/16/20|3/17/20|3/18/20|3/19/20|3/20/20|3/21/20|3/22/20|3/23/20|3/24/20|3/25/20|3/26/20|3/27/20|3/28/20|3/29/20|3/30/20|3/31/20|4/1/20|4/2/20|4/3/20|4/4/20|4/5/20|4/6/20|4/7/20|4/8/20|4/9/20|4/10/20|4/11/20|4/12/20|4/13/20|4/14/20|4/15/20|4/16/20|4/17/20|4/18/20|4/19/20|4/20/20|4/21/20|4/22/20|4/23/20|4/24/20|4/25/20|4/26/20|4/27/20|4/28/20|4/29/20|4/30/20|5/1/20|5/2/20|5/3/20|5/4/20|5/5/20|5/6/20|5/7/20|5/8/20|5/9/20|5/10/20|5/11/20|5/12/20|5/13/20|\n",
      "+--------------+--------------+--------+-------+-------+-------+-------+-------+-------+-------+-------+-------+-------+-------+------+------+------+------+------+------+------+------+------+-------+-------+-------+-------+-------+-------+-------+-------+-------+-------+-------+-------+-------+-------+-------+-------+-------+-------+-------+-------+------+------+------+------+------+------+------+------+------+-------+-------+-------+-------+-------+-------+-------+-------+-------+-------+-------+-------+-------+-------+-------+-------+-------+-------+-------+-------+-------+-------+------+------+------+------+------+------+------+------+------+-------+-------+-------+-------+-------+-------+-------+-------+-------+-------+-------+-------+-------+-------+-------+-------+-------+-------+-------+-------+-------+------+------+------+------+------+------+------+------+------+-------+-------+-------+-------+\n",
      "|          null|   Afghanistan|    33.0|   65.0|      0|      0|      0|      0|      0|      0|      0|      0|      0|      0|     0|     0|     0|     0|     0|     0|     0|     0|     0|      0|      0|      0|      0|      0|      0|      0|      0|      0|      0|      0|      0|      0|      0|      1|      1|      1|      1|      1|      1|     1|     1|     1|     1|     1|     1|     1|     4|     4|      5|      7|      7|      7|     11|     16|     21|     22|     22|     22|     24|     24|     40|     40|     74|     84|     94|    110|    110|    120|    170|    174|   237|   273|   281|   299|   349|   367|   423|   444|   484|    521|    555|    607|    665|    714|    784|    840|    906|    933|    996|   1026|   1092|   1176|   1279|   1351|   1463|   1531|   1703|   1828|   1939|   2171|  2335|  2469|  2704|  2894|  3224|  3392|  3563|  3778|  4033|   4402|   4687|   4963|   5226|\n",
      "|          null|       Albania| 41.1533|20.1683|      0|      0|      0|      0|      0|      0|      0|      0|      0|      0|     0|     0|     0|     0|     0|     0|     0|     0|     0|      0|      0|      0|      0|      0|      0|      0|      0|      0|      0|      0|      0|      0|      0|      0|      0|      0|      0|      0|      0|     0|     0|     0|     0|     0|     0|     0|     0|     2|     10|     12|     23|     33|     38|     42|     51|     55|     59|     64|     70|     76|     89|    104|    123|    146|    174|    186|    197|    212|    223|    243|   259|   277|   304|   333|   361|   377|   383|   400|   409|    416|    433|    446|    467|    475|    494|    518|    539|    548|    562|    584|    609|    634|    663|    678|    712|    726|    736|    750|    766|    773|   782|   789|   795|   803|   820|   832|   842|   850|   856|    868|    872|    876|    880|\n",
      "|          null|       Algeria| 28.0339| 1.6596|      0|      0|      0|      0|      0|      0|      0|      0|      0|      0|     0|     0|     0|     0|     0|     0|     0|     0|     0|      0|      0|      0|      0|      0|      0|      0|      0|      0|      0|      0|      0|      0|      0|      0|      1|      1|      1|      1|      1|     1|     3|     5|    12|    12|    17|    17|    19|    20|     20|     20|     24|     26|     37|     48|     54|     60|     74|     87|     90|    139|    201|    230|    264|    302|    367|    409|    454|    511|    584|    716|   847|   986|  1171|  1251|  1320|  1423|  1468|  1572|  1666|   1761|   1825|   1914|   1983|   2070|   2160|   2268|   2418|   2534|   2629|   2718|   2811|   2910|   3007|   3127|   3256|   3382|   3517|   3649|   3848|   4006|  4154|  4295|  4474|  4648|  4838|  4997|  5182|  5369|  5558|   5723|   5891|   6067|   6253|\n",
      "|          null|       Andorra| 42.5063| 1.5218|      0|      0|      0|      0|      0|      0|      0|      0|      0|      0|     0|     0|     0|     0|     0|     0|     0|     0|     0|      0|      0|      0|      0|      0|      0|      0|      0|      0|      0|      0|      0|      0|      0|      0|      0|      0|      0|      0|      0|     0|     1|     1|     1|     1|     1|     1|     1|     1|      1|      1|      1|      1|      1|      1|      2|     39|     39|     53|     75|     88|    113|    133|    164|    188|    224|    267|    308|    334|    370|    376|   390|   428|   439|   466|   501|   525|   545|   564|   583|    601|    601|    638|    646|    659|    673|    673|    696|    704|    713|    717|    717|    723|    723|    731|    738|    738|    743|    743|    743|    745|   745|   747|   748|   750|   751|   751|   752|   752|   754|    755|    755|    758|    760|\n",
      "|          null|        Angola|-11.2027|17.8739|      0|      0|      0|      0|      0|      0|      0|      0|      0|      0|     0|     0|     0|     0|     0|     0|     0|     0|     0|      0|      0|      0|      0|      0|      0|      0|      0|      0|      0|      0|      0|      0|      0|      0|      0|      0|      0|      0|      0|     0|     0|     0|     0|     0|     0|     0|     0|     0|      0|      0|      0|      0|      0|      0|      0|      0|      0|      0|      1|      2|      2|      3|      3|      3|      4|      4|      5|      7|      7|      7|     8|     8|     8|    10|    14|    16|    17|    19|    19|     19|     19|     19|     19|     19|     19|     19|     19|     24|     24|     24|     24|     25|     25|     25|     25|     26|     27|     27|     27|     27|    30|    35|    35|    35|    36|    36|    36|    43|    43|     45|     45|     45|     45|\n",
      "+--------------+--------------+--------+-------+-------+-------+-------+-------+-------+-------+-------+-------+-------+-------+------+------+------+------+------+------+------+------+------+-------+-------+-------+-------+-------+-------+-------+-------+-------+-------+-------+-------+-------+-------+-------+-------+-------+-------+-------+-------+------+------+------+------+------+------+------+------+------+-------+-------+-------+-------+-------+-------+-------+-------+-------+-------+-------+-------+-------+-------+-------+-------+-------+-------+-------+-------+-------+-------+------+------+------+------+------+------+------+------+------+-------+-------+-------+-------+-------+-------+-------+-------+-------+-------+-------+-------+-------+-------+-------+-------+-------+-------+-------+-------+-------+------+------+------+------+------+------+------+------+------+-------+-------+-------+-------+\n",
      "only showing top 5 rows"
     ]
    }
   ],
   "source": [
    "# Muestra las priemeras 5 filas\n",
    "mundialconfirmed.show(5)"
   ]
  },
  {
   "cell_type": "code",
   "execution_count": 22,
   "metadata": {},
   "outputs": [
    {
     "data": {
      "application/vnd.jupyter.widget-view+json": {
       "model_id": "1c688ffd7023490b9b65f8e96dd975ff",
       "version_major": 2,
       "version_minor": 0
      },
      "text/plain": [
       "VBox()"
      ]
     },
     "metadata": {},
     "output_type": "display_data"
    },
    {
     "data": {
      "application/vnd.jupyter.widget-view+json": {
       "model_id": "",
       "version_major": 2,
       "version_minor": 0
      },
      "text/plain": [
       "FloatProgress(value=0.0, bar_style='info', description='Progress:', layout=Layout(height='25px', width='50%'),…"
      ]
     },
     "metadata": {},
     "output_type": "display_data"
    },
    {
     "name": "stdout",
     "output_type": "stream",
     "text": [
      "+--------------+-----+\n",
      "|Country/Region|count|\n",
      "+--------------+-----+\n",
      "|China         |33   |\n",
      "|Canada        |14   |\n",
      "|United Kingdom|11   |\n",
      "|France        |11   |\n",
      "|Australia     |8    |\n",
      "|Netherlands   |5    |\n",
      "|Denmark       |3    |\n",
      "|Eritrea       |1    |\n",
      "|Senegal       |1    |\n",
      "|Cabo Verde    |1    |\n",
      "+--------------+-----+\n",
      "only showing top 10 rows"
     ]
    }
   ],
   "source": [
    "# Cuantos casos confirmados hay por pais/región\n",
    "mundialconfirmed.groupBy('Country/Region').count().orderBy('count',ascending=False).show(10,False)"
   ]
  },
  {
   "cell_type": "code",
   "execution_count": 37,
   "metadata": {},
   "outputs": [
    {
     "data": {
      "application/vnd.jupyter.widget-view+json": {
       "model_id": "50c1a8ba2e534822b0b8d0d04a551f1d",
       "version_major": 2,
       "version_minor": 0
      },
      "text/plain": [
       "VBox()"
      ]
     },
     "metadata": {},
     "output_type": "display_data"
    },
    {
     "data": {
      "application/vnd.jupyter.widget-view+json": {
       "model_id": "",
       "version_major": 2,
       "version_minor": 0
      },
      "text/plain": [
       "FloatProgress(value=0.0, bar_style='info', description='Progress:', layout=Layout(height='25px', width='50%'),…"
      ]
     },
     "metadata": {},
     "output_type": "display_data"
    },
    {
     "name": "stdout",
     "output_type": "stream",
     "text": [
      "+-------------------+-------+\n",
      "|Country/Region     |5/13/20|\n",
      "+-------------------+-------+\n",
      "|Afghanistan        |5226   |\n",
      "|Albania            |880    |\n",
      "|Algeria            |6253   |\n",
      "|Andorra            |760    |\n",
      "|Angola             |45     |\n",
      "|Antigua and Barbuda|25     |\n",
      "|Argentina          |6879   |\n",
      "|Armenia            |3718   |\n",
      "|Australia          |107    |\n",
      "|Australia          |3063   |\n",
      "+-------------------+-------+\n",
      "only showing top 10 rows"
     ]
    }
   ],
   "source": [
    "# Muestra los casos confirmados el dia 5/13/20\n",
    "mundialconfirmed.select('Country/Region', '5/13/20').show(10,False)"
   ]
  },
  {
   "cell_type": "code",
   "execution_count": 35,
   "metadata": {},
   "outputs": [
    {
     "data": {
      "application/vnd.jupyter.widget-view+json": {
       "model_id": "c7d9a279efad4a3fbe347adc5e3b3230",
       "version_major": 2,
       "version_minor": 0
      },
      "text/plain": [
       "VBox()"
      ]
     },
     "metadata": {},
     "output_type": "display_data"
    },
    {
     "data": {
      "application/vnd.jupyter.widget-view+json": {
       "model_id": "",
       "version_major": 2,
       "version_minor": 0
      },
      "text/plain": [
       "FloatProgress(value=0.0, bar_style='info', description='Progress:', layout=Layout(height='25px', width='50%'),…"
      ]
     },
     "metadata": {},
     "output_type": "display_data"
    },
    {
     "name": "stdout",
     "output_type": "stream",
     "text": [
      "+-------------------+-------+\n",
      "|Country/Region     |1/22/20|\n",
      "+-------------------+-------+\n",
      "|Afghanistan        |0      |\n",
      "|Albania            |0      |\n",
      "|Algeria            |0      |\n",
      "|Andorra            |0      |\n",
      "|Angola             |0      |\n",
      "|Antigua and Barbuda|0      |\n",
      "|Argentina          |0      |\n",
      "|Armenia            |0      |\n",
      "|Australia          |0      |\n",
      "|Australia          |0      |\n",
      "+-------------------+-------+\n",
      "only showing top 10 rows"
     ]
    }
   ],
   "source": [
    "# Muestra los casos confirmados el dia 1/22/20\n",
    "mundialconfirmed.select('Country/Region', '1/22/20').show(10,False)"
   ]
  },
  {
   "cell_type": "code",
   "execution_count": 38,
   "metadata": {},
   "outputs": [
    {
     "data": {
      "application/vnd.jupyter.widget-view+json": {
       "model_id": "3afab2da87544b2b9e68ab84228dca8f",
       "version_major": 2,
       "version_minor": 0
      },
      "text/plain": [
       "VBox()"
      ]
     },
     "metadata": {},
     "output_type": "display_data"
    },
    {
     "data": {
      "application/vnd.jupyter.widget-view+json": {
       "model_id": "",
       "version_major": 2,
       "version_minor": 0
      },
      "text/plain": [
       "FloatProgress(value=0.0, bar_style='info', description='Progress:', layout=Layout(height='25px', width='50%'),…"
      ]
     },
     "metadata": {},
     "output_type": "display_data"
    },
    {
     "name": "stdout",
     "output_type": "stream",
     "text": [
      "['Province/State', 'Country/Region', 'Lat', 'Long', '1/22/20', '1/23/20', '1/24/20', '1/25/20', '1/26/20', '1/27/20', '1/28/20', '1/29/20', '1/30/20', '1/31/20', '2/1/20', '2/2/20', '2/3/20', '2/4/20', '2/5/20', '2/6/20', '2/7/20', '2/8/20', '2/9/20', '2/10/20', '2/11/20', '2/12/20', '2/13/20', '2/14/20', '2/15/20', '2/16/20', '2/17/20', '2/18/20', '2/19/20', '2/20/20', '2/21/20', '2/22/20', '2/23/20', '2/24/20', '2/25/20', '2/26/20', '2/27/20', '2/28/20', '2/29/20', '3/1/20', '3/2/20', '3/3/20', '3/4/20', '3/5/20', '3/6/20', '3/7/20', '3/8/20', '3/9/20', '3/10/20', '3/11/20', '3/12/20', '3/13/20', '3/14/20', '3/15/20', '3/16/20', '3/17/20', '3/18/20', '3/19/20', '3/20/20', '3/21/20', '3/22/20', '3/23/20', '3/24/20', '3/25/20', '3/26/20', '3/27/20', '3/28/20', '3/29/20', '3/30/20', '3/31/20', '4/1/20', '4/2/20', '4/3/20', '4/4/20', '4/5/20', '4/6/20', '4/7/20', '4/8/20', '4/9/20', '4/10/20', '4/11/20', '4/12/20', '4/13/20', '4/14/20', '4/15/20', '4/16/20', '4/17/20', '4/18/20', '4/19/20', '4/20/20', '4/21/20', '4/22/20', '4/23/20', '4/24/20', '4/25/20', '4/26/20', '4/27/20', '4/28/20', '4/29/20', '4/30/20', '5/1/20', '5/2/20', '5/3/20', '5/4/20', '5/5/20', '5/6/20', '5/7/20', '5/8/20', '5/9/20', '5/10/20', '5/11/20', '5/12/20', '5/13/20', 'ISO 3166-1 Alpha 3-Codes', 'Region Code', 'Region Name', 'Sub-region Code', 'Sub-region Name', 'Intermediate Region Code', 'Intermediate Region Name']"
     ]
    }
   ],
   "source": [
    "#columns of dataframe\n",
    "mundialconfirmedRegions.columns"
   ]
  },
  {
   "cell_type": "code",
   "execution_count": 39,
   "metadata": {},
   "outputs": [
    {
     "data": {
      "application/vnd.jupyter.widget-view+json": {
       "model_id": "13ec0e09cd02403babd03e23bb079af7",
       "version_major": 2,
       "version_minor": 0
      },
      "text/plain": [
       "VBox()"
      ]
     },
     "metadata": {},
     "output_type": "display_data"
    },
    {
     "data": {
      "application/vnd.jupyter.widget-view+json": {
       "model_id": "",
       "version_major": 2,
       "version_minor": 0
      },
      "text/plain": [
       "FloatProgress(value=0.0, bar_style='info', description='Progress:', layout=Layout(height='25px', width='50%'),…"
      ]
     },
     "metadata": {},
     "output_type": "display_data"
    },
    {
     "name": "stdout",
     "output_type": "stream",
     "text": [
      "+--------------+--------------+--------+--------+-------+-------+-------+-------+-------+-------+-------+-------+-------+-------+------+------+------+------+------+------+------+------+------+-------+-------+-------+-------+-------+-------+-------+-------+-------+-------+-------+-------+-------+-------+-------+-------+-------+-------+-------+-------+------+------+------+------+------+------+------+------+------+-------+-------+-------+-------+-------+-------+-------+-------+-------+-------+-------+-------+-------+-------+-------+-------+-------+-------+-------+-------+-------+-------+------+------+------+------+------+------+------+------+------+-------+-------+-------+-------+-------+-------+-------+-------+-------+-------+-------+-------+-------+-------+-------+-------+-------+-------+-------+-------+-------+------+------+------+------+------+------+------+------+------+-------+-------+-------+-------+------------------------+-----------------+-----------------+----------------+----------------+------------------------+------------------------+\n",
      "|Province/State|Country/Region|     Lat|    Long|1/22/20|1/23/20|1/24/20|1/25/20|1/26/20|1/27/20|1/28/20|1/29/20|1/30/20|1/31/20|2/1/20|2/2/20|2/3/20|2/4/20|2/5/20|2/6/20|2/7/20|2/8/20|2/9/20|2/10/20|2/11/20|2/12/20|2/13/20|2/14/20|2/15/20|2/16/20|2/17/20|2/18/20|2/19/20|2/20/20|2/21/20|2/22/20|2/23/20|2/24/20|2/25/20|2/26/20|2/27/20|2/28/20|2/29/20|3/1/20|3/2/20|3/3/20|3/4/20|3/5/20|3/6/20|3/7/20|3/8/20|3/9/20|3/10/20|3/11/20|3/12/20|3/13/20|3/14/20|3/15/20|3/16/20|3/17/20|3/18/20|3/19/20|3/20/20|3/21/20|3/22/20|3/23/20|3/24/20|3/25/20|3/26/20|3/27/20|3/28/20|3/29/20|3/30/20|3/31/20|4/1/20|4/2/20|4/3/20|4/4/20|4/5/20|4/6/20|4/7/20|4/8/20|4/9/20|4/10/20|4/11/20|4/12/20|4/13/20|4/14/20|4/15/20|4/16/20|4/17/20|4/18/20|4/19/20|4/20/20|4/21/20|4/22/20|4/23/20|4/24/20|4/25/20|4/26/20|4/27/20|4/28/20|4/29/20|4/30/20|5/1/20|5/2/20|5/3/20|5/4/20|5/5/20|5/6/20|5/7/20|5/8/20|5/9/20|5/10/20|5/11/20|5/12/20|5/13/20|ISO 3166-1 Alpha 3-Codes|      Region Code|      Region Name| Sub-region Code| Sub-region Name|Intermediate Region Code|Intermediate Region Name|\n",
      "+--------------+--------------+--------+--------+-------+-------+-------+-------+-------+-------+-------+-------+-------+-------+------+------+------+------+------+------+------+------+------+-------+-------+-------+-------+-------+-------+-------+-------+-------+-------+-------+-------+-------+-------+-------+-------+-------+-------+-------+-------+------+------+------+------+------+------+------+------+------+-------+-------+-------+-------+-------+-------+-------+-------+-------+-------+-------+-------+-------+-------+-------+-------+-------+-------+-------+-------+-------+-------+------+------+------+------+------+------+------+------+------+-------+-------+-------+-------+-------+-------+-------+-------+-------+-------+-------+-------+-------+-------+-------+-------+-------+-------+-------+-------+-------+------+------+------+------+------+------+------+------+------+-------+-------+-------+-------+------------------------+-----------------+-----------------+----------------+----------------+------------------------+------------------------+\n",
      "|    #adm1+name| #country+name|#geo+lat|#geo+lon|   null|   null|   null|   null|   null|   null|   null|   null|   null|   null|  null|  null|  null|  null|  null|  null|  null|  null|  null|   null|   null|   null|   null|   null|   null|   null|   null|   null|   null|   null|   null|   null|   null|   null|   null|   null|   null|   null|   null|  null|  null|  null|  null|  null|  null|  null|  null|  null|   null|   null|   null|   null|   null|   null|   null|   null|   null|   null|   null|   null|   null|   null|   null|   null|   null|   null|   null|   null|   null|   null|  null|  null|  null|  null|  null|  null|  null|  null|  null|   null|   null|   null|   null|   null|   null|   null|   null|   null|   null|   null|   null|   null|   null|   null|   null|   null|   null|   null|   null|   null|  null|  null|  null|  null|  null|  null|  null|  null|  null|   null|   null|   null|   null|           #country+code|#region+main+code|#region+main+name|#region+sub+code|#region+sub+name|    #region+intermedi...|    #region+intermedi...|\n",
      "|          null|   Afghanistan|    33.0|    65.0|      0|      0|      0|      0|      0|      0|      0|      0|      0|      0|     0|     0|     0|     0|     0|     0|     0|     0|     0|      0|      0|      0|      0|      0|      0|      0|      0|      0|      0|      0|      0|      0|      0|      1|      1|      1|      1|      1|      1|     1|     1|     1|     1|     1|     1|     1|     4|     4|      5|      7|      7|      7|     11|     16|     21|     22|     22|     22|     24|     24|     40|     40|     74|     84|     94|    110|    110|    120|    170|    174|   237|   273|   281|   299|   349|   367|   423|   444|   484|    521|    555|    607|    665|    714|    784|    840|    906|    933|    996|   1026|   1092|   1176|   1279|   1351|   1463|   1531|   1703|   1828|   1939|   2171|  2335|  2469|  2704|  2894|  3224|  3392|  3563|  3778|  4033|   4402|   4687|   4963|   5226|                     AFG|              142|             Asia|              34|   Southern Asia|                    null|                    null|\n",
      "|          null|       Albania| 41.1533| 20.1683|      0|      0|      0|      0|      0|      0|      0|      0|      0|      0|     0|     0|     0|     0|     0|     0|     0|     0|     0|      0|      0|      0|      0|      0|      0|      0|      0|      0|      0|      0|      0|      0|      0|      0|      0|      0|      0|      0|      0|     0|     0|     0|     0|     0|     0|     0|     0|     2|     10|     12|     23|     33|     38|     42|     51|     55|     59|     64|     70|     76|     89|    104|    123|    146|    174|    186|    197|    212|    223|    243|   259|   277|   304|   333|   361|   377|   383|   400|   409|    416|    433|    446|    467|    475|    494|    518|    539|    548|    562|    584|    609|    634|    663|    678|    712|    726|    736|    750|    766|    773|   782|   789|   795|   803|   820|   832|   842|   850|   856|    868|    872|    876|    880|                     ALB|              150|           Europe|              39| Southern Europe|                    null|                    null|\n",
      "|          null|       Algeria| 28.0339|  1.6596|      0|      0|      0|      0|      0|      0|      0|      0|      0|      0|     0|     0|     0|     0|     0|     0|     0|     0|     0|      0|      0|      0|      0|      0|      0|      0|      0|      0|      0|      0|      0|      0|      0|      0|      1|      1|      1|      1|      1|     1|     3|     5|    12|    12|    17|    17|    19|    20|     20|     20|     24|     26|     37|     48|     54|     60|     74|     87|     90|    139|    201|    230|    264|    302|    367|    409|    454|    511|    584|    716|   847|   986|  1171|  1251|  1320|  1423|  1468|  1572|  1666|   1761|   1825|   1914|   1983|   2070|   2160|   2268|   2418|   2534|   2629|   2718|   2811|   2910|   3007|   3127|   3256|   3382|   3517|   3649|   3848|   4006|  4154|  4295|  4474|  4648|  4838|  4997|  5182|  5369|  5558|   5723|   5891|   6067|   6253|                     DZA|                2|           Africa|              15| Northern Africa|                    null|                    null|\n",
      "|          null|       Andorra| 42.5063|  1.5218|      0|      0|      0|      0|      0|      0|      0|      0|      0|      0|     0|     0|     0|     0|     0|     0|     0|     0|     0|      0|      0|      0|      0|      0|      0|      0|      0|      0|      0|      0|      0|      0|      0|      0|      0|      0|      0|      0|      0|     0|     1|     1|     1|     1|     1|     1|     1|     1|      1|      1|      1|      1|      1|      1|      2|     39|     39|     53|     75|     88|    113|    133|    164|    188|    224|    267|    308|    334|    370|    376|   390|   428|   439|   466|   501|   525|   545|   564|   583|    601|    601|    638|    646|    659|    673|    673|    696|    704|    713|    717|    717|    723|    723|    731|    738|    738|    743|    743|    743|    745|   745|   747|   748|   750|   751|   751|   752|   752|   754|    755|    755|    758|    760|                     AND|              150|           Europe|              39| Southern Europe|                    null|                    null|\n",
      "+--------------+--------------+--------+--------+-------+-------+-------+-------+-------+-------+-------+-------+-------+-------+------+------+------+------+------+------+------+------+------+-------+-------+-------+-------+-------+-------+-------+-------+-------+-------+-------+-------+-------+-------+-------+-------+-------+-------+-------+-------+------+------+------+------+------+------+------+------+------+-------+-------+-------+-------+-------+-------+-------+-------+-------+-------+-------+-------+-------+-------+-------+-------+-------+-------+-------+-------+-------+-------+------+------+------+------+------+------+------+------+------+-------+-------+-------+-------+-------+-------+-------+-------+-------+-------+-------+-------+-------+-------+-------+-------+-------+-------+-------+-------+-------+------+------+------+------+------+------+------+------+------+-------+-------+-------+-------+------------------------+-----------------+-----------------+----------------+----------------+------------------------+------------------------+\n",
      "only showing top 5 rows"
     ]
    }
   ],
   "source": [
    "# Muestra las priemeras 5 filas\n",
    "mundialconfirmedRegions.show(5)"
   ]
  },
  {
   "cell_type": "code",
   "execution_count": 42,
   "metadata": {},
   "outputs": [
    {
     "data": {
      "application/vnd.jupyter.widget-view+json": {
       "model_id": "ce245d337ca643c4bcc8161002ada003",
       "version_major": 2,
       "version_minor": 0
      },
      "text/plain": [
       "VBox()"
      ]
     },
     "metadata": {},
     "output_type": "display_data"
    },
    {
     "data": {
      "application/vnd.jupyter.widget-view+json": {
       "model_id": "",
       "version_major": 2,
       "version_minor": 0
      },
      "text/plain": [
       "FloatProgress(value=0.0, bar_style='info', description='Progress:', layout=Layout(height='25px', width='50%'),…"
      ]
     },
     "metadata": {},
     "output_type": "display_data"
    },
    {
     "name": "stdout",
     "output_type": "stream",
     "text": [
      "+-----------------+-----+\n",
      "|      Region Name|count|\n",
      "+-----------------+-----+\n",
      "|             Asia|   79|\n",
      "|         Americas|   64|\n",
      "|           Africa|   57|\n",
      "|           Europe|   49|\n",
      "|          Oceania|   13|\n",
      "|             null|    4|\n",
      "|#region+main+name|    1|\n",
      "+-----------------+-----+"
     ]
    }
   ],
   "source": [
    "# Número de casos confirmados por región\n",
    "mundialconfirmedRegions.groupBy('Region Name').count().orderBy('count',ascending=False).show()"
   ]
  },
  {
   "cell_type": "code",
   "execution_count": 43,
   "metadata": {},
   "outputs": [
    {
     "data": {
      "application/vnd.jupyter.widget-view+json": {
       "model_id": "117b7a2261a248328e54ee1193506af6",
       "version_major": 2,
       "version_minor": 0
      },
      "text/plain": [
       "VBox()"
      ]
     },
     "metadata": {},
     "output_type": "display_data"
    },
    {
     "data": {
      "application/vnd.jupyter.widget-view+json": {
       "model_id": "",
       "version_major": 2,
       "version_minor": 0
      },
      "text/plain": [
       "FloatProgress(value=0.0, bar_style='info', description='Progress:', layout=Layout(height='25px', width='50%'),…"
      ]
     },
     "metadata": {},
     "output_type": "display_data"
    },
    {
     "name": "stdout",
     "output_type": "stream",
     "text": [
      "+--------------------+-----+\n",
      "|     Sub-region Name|count|\n",
      "+--------------------+-----+\n",
      "|  Sub-Saharan Africa|   50|\n",
      "|Latin America and...|   48|\n",
      "|        Eastern Asia|   37|\n",
      "|        Western Asia|   18|\n",
      "|     Southern Europe|   17|\n",
      "|    Northern America|   16|\n",
      "|     Northern Europe|   13|\n",
      "|  South-eastern Asia|   11|\n",
      "|      Eastern Europe|   10|\n",
      "|Australia and New...|    9|\n",
      "|      Western Europe|    9|\n",
      "|       Southern Asia|    9|\n",
      "|     Northern Africa|    7|\n",
      "|                null|    4|\n",
      "|        Central Asia|    4|\n",
      "|           Melanesia|    3|\n",
      "|           Polynesia|    1|\n",
      "|    #region+sub+name|    1|\n",
      "+--------------------+-----+"
     ]
    }
   ],
   "source": [
    "# Número de casos confirmados por sub-region\n",
    "mundialconfirmedRegions.groupBy('Sub-region Name').count().orderBy('count',ascending=False).show()"
   ]
  },
  {
   "cell_type": "code",
   "execution_count": 44,
   "metadata": {},
   "outputs": [
    {
     "data": {
      "application/vnd.jupyter.widget-view+json": {
       "model_id": "afb1eee0edba4555a7581af643ace8db",
       "version_major": 2,
       "version_minor": 0
      },
      "text/plain": [
       "VBox()"
      ]
     },
     "metadata": {},
     "output_type": "display_data"
    },
    {
     "data": {
      "application/vnd.jupyter.widget-view+json": {
       "model_id": "",
       "version_major": 2,
       "version_minor": 0
      },
      "text/plain": [
       "FloatProgress(value=0.0, bar_style='info', description='Progress:', layout=Layout(height='25px', width='50%'),…"
      ]
     },
     "metadata": {},
     "output_type": "display_data"
    },
    {
     "name": "stdout",
     "output_type": "stream",
     "text": [
      "['Province/State', 'Country/Region', 'Lat', 'Long', 'Date', 'Value', 'ISO 3166-1 Alpha 3-Codes', 'Region Code', 'Sub-region Code', 'Intermediate Region Code']"
     ]
    }
   ],
   "source": [
    "#columns of dataframe\n",
    "mundialconfirmedNarrow.columns"
   ]
  },
  {
   "cell_type": "code",
   "execution_count": 45,
   "metadata": {},
   "outputs": [
    {
     "data": {
      "application/vnd.jupyter.widget-view+json": {
       "model_id": "f46b067af8274e3486f02d1f230acac9",
       "version_major": 2,
       "version_minor": 0
      },
      "text/plain": [
       "VBox()"
      ]
     },
     "metadata": {},
     "output_type": "display_data"
    },
    {
     "data": {
      "application/vnd.jupyter.widget-view+json": {
       "model_id": "",
       "version_major": 2,
       "version_minor": 0
      },
      "text/plain": [
       "FloatProgress(value=0.0, bar_style='info', description='Progress:', layout=Layout(height='25px', width='50%'),…"
      ]
     },
     "metadata": {},
     "output_type": "display_data"
    },
    {
     "name": "stdout",
     "output_type": "stream",
     "text": [
      "+--------------+--------------+--------+--------+----------+--------------------+------------------------+-----------------+----------------+------------------------+\n",
      "|Province/State|Country/Region|     Lat|    Long|      Date|               Value|ISO 3166-1 Alpha 3-Codes|      Region Code| Sub-region Code|Intermediate Region Code|\n",
      "+--------------+--------------+--------+--------+----------+--------------------+------------------------+-----------------+----------------+------------------------+\n",
      "|    #adm1+name| #country+name|#geo+lat|#geo+lon|     #date|#affected+infecte...|           #country+code|#region+main+code|#region+sub+code|    #region+intermedi...|\n",
      "|          null|   Afghanistan|    33.0|    65.0|2020-05-13|                5226|                     AFG|              142|              34|                    null|\n",
      "|          null|   Afghanistan|    33.0|    65.0|2020-05-12|                4963|                     AFG|              142|              34|                    null|\n",
      "|          null|   Afghanistan|    33.0|    65.0|2020-05-11|                4687|                     AFG|              142|              34|                    null|\n",
      "|          null|   Afghanistan|    33.0|    65.0|2020-05-10|                4402|                     AFG|              142|              34|                    null|\n",
      "+--------------+--------------+--------+--------+----------+--------------------+------------------------+-----------------+----------------+------------------------+\n",
      "only showing top 5 rows"
     ]
    }
   ],
   "source": [
    "# Muestra las priemeras 5 filas\n",
    "mundialconfirmedNarrow.show(5)"
   ]
  },
  {
   "cell_type": "code",
   "execution_count": 74,
   "metadata": {},
   "outputs": [
    {
     "data": {
      "application/vnd.jupyter.widget-view+json": {
       "model_id": "f21b244183fa44908aa61c734cb8d04b",
       "version_major": 2,
       "version_minor": 0
      },
      "text/plain": [
       "VBox()"
      ]
     },
     "metadata": {},
     "output_type": "display_data"
    },
    {
     "data": {
      "application/vnd.jupyter.widget-view+json": {
       "model_id": "",
       "version_major": 2,
       "version_minor": 0
      },
      "text/plain": [
       "FloatProgress(value=0.0, bar_style='info', description='Progress:', layout=Layout(height='25px', width='50%'),…"
      ]
     },
     "metadata": {},
     "output_type": "display_data"
    },
    {
     "name": "stdout",
     "output_type": "stream",
     "text": [
      "+--------------+--------------------+\n",
      "|Country/Region|               value|\n",
      "+--------------+--------------------+\n",
      "| #country+name|#affected+infecte...|\n",
      "|   Afghanistan|                5226|\n",
      "|   Afghanistan|                4963|\n",
      "|   Afghanistan|                4687|\n",
      "|   Afghanistan|                4402|\n",
      "|   Afghanistan|                4033|\n",
      "|   Afghanistan|                3778|\n",
      "|   Afghanistan|                3563|\n",
      "|   Afghanistan|                3392|\n",
      "|   Afghanistan|                3224|\n",
      "|   Afghanistan|                2894|\n",
      "|   Afghanistan|                2704|\n",
      "|   Afghanistan|                2469|\n",
      "|   Afghanistan|                2335|\n",
      "|   Afghanistan|                2171|\n",
      "+--------------+--------------------+\n",
      "only showing top 15 rows"
     ]
    }
   ],
   "source": [
    "# Muestra la cantidad de casos confirmados por pais/region\n",
    "mundialconfirmedNarrow.select('Country/Region', 'value').show(15)"
   ]
  },
  {
   "cell_type": "code",
   "execution_count": 54,
   "metadata": {},
   "outputs": [
    {
     "data": {
      "application/vnd.jupyter.widget-view+json": {
       "model_id": "955dd83d7b5f4ef1b3f69a41a0613461",
       "version_major": 2,
       "version_minor": 0
      },
      "text/plain": [
       "VBox()"
      ]
     },
     "metadata": {},
     "output_type": "display_data"
    },
    {
     "data": {
      "application/vnd.jupyter.widget-view+json": {
       "model_id": "",
       "version_major": 2,
       "version_minor": 0
      },
      "text/plain": [
       "FloatProgress(value=0.0, bar_style='info', description='Progress:', layout=Layout(height='25px', width='50%'),…"
      ]
     },
     "metadata": {},
     "output_type": "display_data"
    },
    {
     "name": "stdout",
     "output_type": "stream",
     "text": [
      "+--------------------+----------+\n",
      "|      Country/Region|      date|\n",
      "+--------------------+----------+\n",
      "|             Albania|2020-04-18|\n",
      "|             Albania|2020-02-18|\n",
      "|             Albania|2020-02-05|\n",
      "|             Algeria|2020-03-19|\n",
      "|             Andorra|2020-02-14|\n",
      "| Antigua and Barbuda|2020-04-17|\n",
      "|Bosnia and Herzeg...|2020-05-07|\n",
      "|            Botswana|2020-01-28|\n",
      "|              Brazil|2020-04-03|\n",
      "|             Burundi|2020-03-13|\n",
      "|              Canada|2020-01-22|\n",
      "|Central African R...|2020-05-02|\n",
      "|Central African R...|2020-03-28|\n",
      "|               Chile|2020-03-01|\n",
      "|               China|2020-05-10|\n",
      "+--------------------+----------+\n",
      "only showing top 15 rows"
     ]
    }
   ],
   "source": [
    "# Muestra en que fecha se registraron mas casos\n",
    "mundialconfirmedNarrow.groupBy('Country/Region', 'date').count().orderBy('count',ascending=False).show(15)"
   ]
  },
  {
   "cell_type": "code",
   "execution_count": 57,
   "metadata": {},
   "outputs": [
    {
     "data": {
      "application/vnd.jupyter.widget-view+json": {
       "model_id": "ee83ead7d6e44f84bb175a6df1b52135",
       "version_major": 2,
       "version_minor": 0
      },
      "text/plain": [
       "VBox()"
      ]
     },
     "metadata": {},
     "output_type": "display_data"
    },
    {
     "data": {
      "application/vnd.jupyter.widget-view+json": {
       "model_id": "",
       "version_major": 2,
       "version_minor": 0
      },
      "text/plain": [
       "FloatProgress(value=0.0, bar_style='info', description='Progress:', layout=Layout(height='25px', width='50%'),…"
      ]
     },
     "metadata": {},
     "output_type": "display_data"
    },
    {
     "name": "stdout",
     "output_type": "stream",
     "text": [
      "root\n",
      " |-- Province/State: string (nullable = true)\n",
      " |-- Country/Region: string (nullable = true)\n",
      " |-- Lat: double (nullable = true)\n",
      " |-- Long: double (nullable = true)\n",
      " |-- 1/22/20: integer (nullable = true)\n",
      " |-- 1/23/20: integer (nullable = true)\n",
      " |-- 1/24/20: integer (nullable = true)\n",
      " |-- 1/25/20: integer (nullable = true)\n",
      " |-- 1/26/20: integer (nullable = true)\n",
      " |-- 1/27/20: integer (nullable = true)\n",
      " |-- 1/28/20: integer (nullable = true)\n",
      " |-- 1/29/20: integer (nullable = true)\n",
      " |-- 1/30/20: integer (nullable = true)\n",
      " |-- 1/31/20: integer (nullable = true)\n",
      " |-- 2/1/20: integer (nullable = true)\n",
      " |-- 2/2/20: integer (nullable = true)\n",
      " |-- 2/3/20: integer (nullable = true)\n",
      " |-- 2/4/20: integer (nullable = true)\n",
      " |-- 2/5/20: integer (nullable = true)\n",
      " |-- 2/6/20: integer (nullable = true)\n",
      " |-- 2/7/20: integer (nullable = true)\n",
      " |-- 2/8/20: integer (nullable = true)\n",
      " |-- 2/9/20: integer (nullable = true)\n",
      " |-- 2/10/20: integer (nullable = true)\n",
      " |-- 2/11/20: integer (nullable = true)\n",
      " |-- 2/12/20: integer (nullable = true)\n",
      " |-- 2/13/20: integer (nullable = true)\n",
      " |-- 2/14/20: integer (nullable = true)\n",
      " |-- 2/15/20: integer (nullable = true)\n",
      " |-- 2/16/20: integer (nullable = true)\n",
      " |-- 2/17/20: integer (nullable = true)\n",
      " |-- 2/18/20: integer (nullable = true)\n",
      " |-- 2/19/20: integer (nullable = true)\n",
      " |-- 2/20/20: integer (nullable = true)\n",
      " |-- 2/21/20: integer (nullable = true)\n",
      " |-- 2/22/20: integer (nullable = true)\n",
      " |-- 2/23/20: integer (nullable = true)\n",
      " |-- 2/24/20: integer (nullable = true)\n",
      " |-- 2/25/20: integer (nullable = true)\n",
      " |-- 2/26/20: integer (nullable = true)\n",
      " |-- 2/27/20: integer (nullable = true)\n",
      " |-- 2/28/20: integer (nullable = true)\n",
      " |-- 2/29/20: integer (nullable = true)\n",
      " |-- 3/1/20: integer (nullable = true)\n",
      " |-- 3/2/20: integer (nullable = true)\n",
      " |-- 3/3/20: integer (nullable = true)\n",
      " |-- 3/4/20: integer (nullable = true)\n",
      " |-- 3/5/20: integer (nullable = true)\n",
      " |-- 3/6/20: integer (nullable = true)\n",
      " |-- 3/7/20: integer (nullable = true)\n",
      " |-- 3/8/20: integer (nullable = true)\n",
      " |-- 3/9/20: integer (nullable = true)\n",
      " |-- 3/10/20: integer (nullable = true)\n",
      " |-- 3/11/20: integer (nullable = true)\n",
      " |-- 3/12/20: integer (nullable = true)\n",
      " |-- 3/13/20: integer (nullable = true)\n",
      " |-- 3/14/20: integer (nullable = true)\n",
      " |-- 3/15/20: integer (nullable = true)\n",
      " |-- 3/16/20: integer (nullable = true)\n",
      " |-- 3/17/20: integer (nullable = true)\n",
      " |-- 3/18/20: integer (nullable = true)\n",
      " |-- 3/19/20: integer (nullable = true)\n",
      " |-- 3/20/20: integer (nullable = true)\n",
      " |-- 3/21/20: integer (nullable = true)\n",
      " |-- 3/22/20: integer (nullable = true)\n",
      " |-- 3/23/20: integer (nullable = true)\n",
      " |-- 3/24/20: integer (nullable = true)\n",
      " |-- 3/25/20: integer (nullable = true)\n",
      " |-- 3/26/20: integer (nullable = true)\n",
      " |-- 3/27/20: integer (nullable = true)\n",
      " |-- 3/28/20: integer (nullable = true)\n",
      " |-- 3/29/20: integer (nullable = true)\n",
      " |-- 3/30/20: integer (nullable = true)\n",
      " |-- 3/31/20: integer (nullable = true)\n",
      " |-- 4/1/20: integer (nullable = true)\n",
      " |-- 4/2/20: integer (nullable = true)\n",
      " |-- 4/3/20: integer (nullable = true)\n",
      " |-- 4/4/20: integer (nullable = true)\n",
      " |-- 4/5/20: integer (nullable = true)\n",
      " |-- 4/6/20: integer (nullable = true)\n",
      " |-- 4/7/20: integer (nullable = true)\n",
      " |-- 4/8/20: integer (nullable = true)\n",
      " |-- 4/9/20: integer (nullable = true)\n",
      " |-- 4/10/20: integer (nullable = true)\n",
      " |-- 4/11/20: integer (nullable = true)\n",
      " |-- 4/12/20: integer (nullable = true)\n",
      " |-- 4/13/20: integer (nullable = true)\n",
      " |-- 4/14/20: integer (nullable = true)\n",
      " |-- 4/15/20: integer (nullable = true)\n",
      " |-- 4/16/20: integer (nullable = true)\n",
      " |-- 4/17/20: integer (nullable = true)\n",
      " |-- 4/18/20: integer (nullable = true)\n",
      " |-- 4/19/20: integer (nullable = true)\n",
      " |-- 4/20/20: integer (nullable = true)\n",
      " |-- 4/21/20: integer (nullable = true)\n",
      " |-- 4/22/20: integer (nullable = true)\n",
      " |-- 4/23/20: integer (nullable = true)\n",
      " |-- 4/24/20: integer (nullable = true)\n",
      " |-- 4/25/20: integer (nullable = true)\n",
      " |-- 4/26/20: integer (nullable = true)\n",
      " |-- 4/27/20: integer (nullable = true)\n",
      " |-- 4/28/20: integer (nullable = true)\n",
      " |-- 4/29/20: integer (nullable = true)\n",
      " |-- 4/30/20: integer (nullable = true)\n",
      " |-- 5/1/20: integer (nullable = true)\n",
      " |-- 5/2/20: integer (nullable = true)\n",
      " |-- 5/3/20: integer (nullable = true)\n",
      " |-- 5/4/20: integer (nullable = true)\n",
      " |-- 5/5/20: integer (nullable = true)\n",
      " |-- 5/6/20: integer (nullable = true)\n",
      " |-- 5/7/20: integer (nullable = true)\n",
      " |-- 5/8/20: integer (nullable = true)\n",
      " |-- 5/9/20: integer (nullable = true)\n",
      " |-- 5/10/20: integer (nullable = true)\n",
      " |-- 5/11/20: integer (nullable = true)\n",
      " |-- 5/12/20: integer (nullable = true)\n",
      " |-- 5/13/20: integer (nullable = true)"
     ]
    }
   ],
   "source": [
    "#printSchema\n",
    "mundialDeaths.printSchema()"
   ]
  },
  {
   "cell_type": "code",
   "execution_count": 58,
   "metadata": {
    "scrolled": true
   },
   "outputs": [
    {
     "data": {
      "application/vnd.jupyter.widget-view+json": {
       "model_id": "1ec24f95a0f549c3b1746b6064efa33c",
       "version_major": 2,
       "version_minor": 0
      },
      "text/plain": [
       "VBox()"
      ]
     },
     "metadata": {},
     "output_type": "display_data"
    },
    {
     "data": {
      "application/vnd.jupyter.widget-view+json": {
       "model_id": "",
       "version_major": 2,
       "version_minor": 0
      },
      "text/plain": [
       "FloatProgress(value=0.0, bar_style='info', description='Progress:', layout=Layout(height='25px', width='50%'),…"
      ]
     },
     "metadata": {},
     "output_type": "display_data"
    },
    {
     "name": "stdout",
     "output_type": "stream",
     "text": [
      "+--------------+-----+\n",
      "|Country/Region|count|\n",
      "+--------------+-----+\n",
      "|China         |33   |\n",
      "|Canada        |14   |\n",
      "|United Kingdom|11   |\n",
      "|France        |11   |\n",
      "|Australia     |8    |\n",
      "|Netherlands   |5    |\n",
      "|Denmark       |3    |\n",
      "|Eritrea       |1    |\n",
      "|Chad          |1    |\n",
      "|Guyana        |1    |\n",
      "+--------------+-----+\n",
      "only showing top 10 rows"
     ]
    }
   ],
   "source": [
    "# Numero de muertos por pais/region\n",
    "mundialDeaths.groupBy('Country/Region').count().orderBy('count',ascending=False).show(10,False)"
   ]
  },
  {
   "cell_type": "code",
   "execution_count": 59,
   "metadata": {},
   "outputs": [
    {
     "data": {
      "application/vnd.jupyter.widget-view+json": {
       "model_id": "23a9b726f9a749e58c1935b17bdeb519",
       "version_major": 2,
       "version_minor": 0
      },
      "text/plain": [
       "VBox()"
      ]
     },
     "metadata": {},
     "output_type": "display_data"
    },
    {
     "data": {
      "application/vnd.jupyter.widget-view+json": {
       "model_id": "",
       "version_major": 2,
       "version_minor": 0
      },
      "text/plain": [
       "FloatProgress(value=0.0, bar_style='info', description='Progress:', layout=Layout(height='25px', width='50%'),…"
      ]
     },
     "metadata": {},
     "output_type": "display_data"
    },
    {
     "name": "stdout",
     "output_type": "stream",
     "text": [
      "root\n",
      " |-- Province/State: string (nullable = true)\n",
      " |-- Country/Region: string (nullable = true)\n",
      " |-- Lat: string (nullable = true)\n",
      " |-- Long: string (nullable = true)\n",
      " |-- 1/22/20: integer (nullable = true)\n",
      " |-- 1/23/20: integer (nullable = true)\n",
      " |-- 1/24/20: integer (nullable = true)\n",
      " |-- 1/25/20: integer (nullable = true)\n",
      " |-- 1/26/20: integer (nullable = true)\n",
      " |-- 1/27/20: integer (nullable = true)\n",
      " |-- 1/28/20: integer (nullable = true)\n",
      " |-- 1/29/20: integer (nullable = true)\n",
      " |-- 1/30/20: integer (nullable = true)\n",
      " |-- 1/31/20: integer (nullable = true)\n",
      " |-- 2/1/20: integer (nullable = true)\n",
      " |-- 2/2/20: integer (nullable = true)\n",
      " |-- 2/3/20: integer (nullable = true)\n",
      " |-- 2/4/20: integer (nullable = true)\n",
      " |-- 2/5/20: integer (nullable = true)\n",
      " |-- 2/6/20: integer (nullable = true)\n",
      " |-- 2/7/20: integer (nullable = true)\n",
      " |-- 2/8/20: integer (nullable = true)\n",
      " |-- 2/9/20: integer (nullable = true)\n",
      " |-- 2/10/20: integer (nullable = true)\n",
      " |-- 2/11/20: integer (nullable = true)\n",
      " |-- 2/12/20: integer (nullable = true)\n",
      " |-- 2/13/20: integer (nullable = true)\n",
      " |-- 2/14/20: integer (nullable = true)\n",
      " |-- 2/15/20: integer (nullable = true)\n",
      " |-- 2/16/20: integer (nullable = true)\n",
      " |-- 2/17/20: integer (nullable = true)\n",
      " |-- 2/18/20: integer (nullable = true)\n",
      " |-- 2/19/20: integer (nullable = true)\n",
      " |-- 2/20/20: integer (nullable = true)\n",
      " |-- 2/21/20: integer (nullable = true)\n",
      " |-- 2/22/20: integer (nullable = true)\n",
      " |-- 2/23/20: integer (nullable = true)\n",
      " |-- 2/24/20: integer (nullable = true)\n",
      " |-- 2/25/20: integer (nullable = true)\n",
      " |-- 2/26/20: integer (nullable = true)\n",
      " |-- 2/27/20: integer (nullable = true)\n",
      " |-- 2/28/20: integer (nullable = true)\n",
      " |-- 2/29/20: integer (nullable = true)\n",
      " |-- 3/1/20: integer (nullable = true)\n",
      " |-- 3/2/20: integer (nullable = true)\n",
      " |-- 3/3/20: integer (nullable = true)\n",
      " |-- 3/4/20: integer (nullable = true)\n",
      " |-- 3/5/20: integer (nullable = true)\n",
      " |-- 3/6/20: integer (nullable = true)\n",
      " |-- 3/7/20: integer (nullable = true)\n",
      " |-- 3/8/20: integer (nullable = true)\n",
      " |-- 3/9/20: integer (nullable = true)\n",
      " |-- 3/10/20: integer (nullable = true)\n",
      " |-- 3/11/20: integer (nullable = true)\n",
      " |-- 3/12/20: integer (nullable = true)\n",
      " |-- 3/13/20: integer (nullable = true)\n",
      " |-- 3/14/20: integer (nullable = true)\n",
      " |-- 3/15/20: integer (nullable = true)\n",
      " |-- 3/16/20: integer (nullable = true)\n",
      " |-- 3/17/20: integer (nullable = true)\n",
      " |-- 3/18/20: integer (nullable = true)\n",
      " |-- 3/19/20: integer (nullable = true)\n",
      " |-- 3/20/20: integer (nullable = true)\n",
      " |-- 3/21/20: integer (nullable = true)\n",
      " |-- 3/22/20: integer (nullable = true)\n",
      " |-- 3/23/20: integer (nullable = true)\n",
      " |-- 3/24/20: integer (nullable = true)\n",
      " |-- 3/25/20: integer (nullable = true)\n",
      " |-- 3/26/20: integer (nullable = true)\n",
      " |-- 3/27/20: integer (nullable = true)\n",
      " |-- 3/28/20: integer (nullable = true)\n",
      " |-- 3/29/20: integer (nullable = true)\n",
      " |-- 3/30/20: integer (nullable = true)\n",
      " |-- 3/31/20: integer (nullable = true)\n",
      " |-- 4/1/20: integer (nullable = true)\n",
      " |-- 4/2/20: integer (nullable = true)\n",
      " |-- 4/3/20: integer (nullable = true)\n",
      " |-- 4/4/20: integer (nullable = true)\n",
      " |-- 4/5/20: integer (nullable = true)\n",
      " |-- 4/6/20: integer (nullable = true)\n",
      " |-- 4/7/20: integer (nullable = true)\n",
      " |-- 4/8/20: integer (nullable = true)\n",
      " |-- 4/9/20: integer (nullable = true)\n",
      " |-- 4/10/20: integer (nullable = true)\n",
      " |-- 4/11/20: integer (nullable = true)\n",
      " |-- 4/12/20: integer (nullable = true)\n",
      " |-- 4/13/20: integer (nullable = true)\n",
      " |-- 4/14/20: integer (nullable = true)\n",
      " |-- 4/15/20: integer (nullable = true)\n",
      " |-- 4/16/20: integer (nullable = true)\n",
      " |-- 4/17/20: integer (nullable = true)\n",
      " |-- 4/18/20: integer (nullable = true)\n",
      " |-- 4/19/20: integer (nullable = true)\n",
      " |-- 4/20/20: integer (nullable = true)\n",
      " |-- 4/21/20: integer (nullable = true)\n",
      " |-- 4/22/20: integer (nullable = true)\n",
      " |-- 4/23/20: integer (nullable = true)\n",
      " |-- 4/24/20: integer (nullable = true)\n",
      " |-- 4/25/20: integer (nullable = true)\n",
      " |-- 4/26/20: integer (nullable = true)\n",
      " |-- 4/27/20: integer (nullable = true)\n",
      " |-- 4/28/20: integer (nullable = true)\n",
      " |-- 4/29/20: integer (nullable = true)\n",
      " |-- 4/30/20: integer (nullable = true)\n",
      " |-- 5/1/20: integer (nullable = true)\n",
      " |-- 5/2/20: integer (nullable = true)\n",
      " |-- 5/3/20: integer (nullable = true)\n",
      " |-- 5/4/20: integer (nullable = true)\n",
      " |-- 5/5/20: integer (nullable = true)\n",
      " |-- 5/6/20: integer (nullable = true)\n",
      " |-- 5/7/20: integer (nullable = true)\n",
      " |-- 5/8/20: integer (nullable = true)\n",
      " |-- 5/9/20: integer (nullable = true)\n",
      " |-- 5/10/20: integer (nullable = true)\n",
      " |-- 5/11/20: integer (nullable = true)\n",
      " |-- 5/12/20: integer (nullable = true)\n",
      " |-- 5/13/20: integer (nullable = true)\n",
      " |-- ISO 3166-1 Alpha 3-Codes: string (nullable = true)\n",
      " |-- Region Code: string (nullable = true)\n",
      " |-- Region Name: string (nullable = true)\n",
      " |-- Sub-region Code: string (nullable = true)\n",
      " |-- Sub-region Name: string (nullable = true)\n",
      " |-- Intermediate Region Code: string (nullable = true)\n",
      " |-- Intermediate Region Name: string (nullable = true)"
     ]
    }
   ],
   "source": [
    "#printSchema\n",
    "mundialDeathsRegions.printSchema()"
   ]
  },
  {
   "cell_type": "code",
   "execution_count": 60,
   "metadata": {},
   "outputs": [
    {
     "data": {
      "application/vnd.jupyter.widget-view+json": {
       "model_id": "d8928f0655d14621adce1ba52ca31471",
       "version_major": 2,
       "version_minor": 0
      },
      "text/plain": [
       "VBox()"
      ]
     },
     "metadata": {},
     "output_type": "display_data"
    },
    {
     "data": {
      "application/vnd.jupyter.widget-view+json": {
       "model_id": "",
       "version_major": 2,
       "version_minor": 0
      },
      "text/plain": [
       "FloatProgress(value=0.0, bar_style='info', description='Progress:', layout=Layout(height='25px', width='50%'),…"
      ]
     },
     "metadata": {},
     "output_type": "display_data"
    },
    {
     "name": "stdout",
     "output_type": "stream",
     "text": [
      "+-----------------+-----+\n",
      "|      Region Name|count|\n",
      "+-----------------+-----+\n",
      "|             Asia|   79|\n",
      "|         Americas|   64|\n",
      "|           Africa|   57|\n",
      "|           Europe|   49|\n",
      "|          Oceania|   13|\n",
      "|             null|    4|\n",
      "|#region+main+name|    1|\n",
      "+-----------------+-----+"
     ]
    }
   ],
   "source": [
    "# Número de muertos por region\n",
    "mundialDeathsRegions.groupBy('Region Name').count().orderBy('count',ascending=False).show()"
   ]
  },
  {
   "cell_type": "code",
   "execution_count": 61,
   "metadata": {},
   "outputs": [
    {
     "data": {
      "application/vnd.jupyter.widget-view+json": {
       "model_id": "5fb93db663994071832d0ebc0834834f",
       "version_major": 2,
       "version_minor": 0
      },
      "text/plain": [
       "VBox()"
      ]
     },
     "metadata": {},
     "output_type": "display_data"
    },
    {
     "data": {
      "application/vnd.jupyter.widget-view+json": {
       "model_id": "",
       "version_major": 2,
       "version_minor": 0
      },
      "text/plain": [
       "FloatProgress(value=0.0, bar_style='info', description='Progress:', layout=Layout(height='25px', width='50%'),…"
      ]
     },
     "metadata": {},
     "output_type": "display_data"
    },
    {
     "name": "stdout",
     "output_type": "stream",
     "text": [
      "root\n",
      " |-- Province/State: string (nullable = true)\n",
      " |-- Country/Region: string (nullable = true)\n",
      " |-- Lat: string (nullable = true)\n",
      " |-- Long: string (nullable = true)\n",
      " |-- Date: string (nullable = true)\n",
      " |-- Value: string (nullable = true)\n",
      " |-- ISO 3166-1 Alpha 3-Codes: string (nullable = true)\n",
      " |-- Region Code: string (nullable = true)\n",
      " |-- Sub-region Code: string (nullable = true)\n",
      " |-- Intermediate Region Code: string (nullable = true)"
     ]
    }
   ],
   "source": [
    "#printSchema\n",
    "mundialDeathsNarrow.printSchema()"
   ]
  },
  {
   "cell_type": "code",
   "execution_count": 62,
   "metadata": {},
   "outputs": [
    {
     "data": {
      "application/vnd.jupyter.widget-view+json": {
       "model_id": "a14f5c7b7b014f3bbef6d2f91389080f",
       "version_major": 2,
       "version_minor": 0
      },
      "text/plain": [
       "VBox()"
      ]
     },
     "metadata": {},
     "output_type": "display_data"
    },
    {
     "data": {
      "application/vnd.jupyter.widget-view+json": {
       "model_id": "",
       "version_major": 2,
       "version_minor": 0
      },
      "text/plain": [
       "FloatProgress(value=0.0, bar_style='info', description='Progress:', layout=Layout(height='25px', width='50%'),…"
      ]
     },
     "metadata": {},
     "output_type": "display_data"
    },
    {
     "name": "stdout",
     "output_type": "stream",
     "text": [
      "+--------------+-----+\n",
      "|Country/Region|value|\n",
      "+--------------+-----+\n",
      "|       Algeria| 2070|\n",
      "|     Argentina| 1795|\n",
      "|       Bahamas|   47|\n",
      "|    Bangladesh|  330|\n",
      "|         Burma|  151|\n",
      "|        Canada| 1018|\n",
      "|        Canada|12063|\n",
      "|         China| 1467|\n",
      "|         China|  524|\n",
      "|         China|  675|\n",
      "|         China|   56|\n",
      "|         China| 1255|\n",
      "|    Costa Rica|   50|\n",
      "| Cote d'Ivoire|  638|\n",
      "|       Denmark|    1|\n",
      "+--------------+-----+\n",
      "only showing top 15 rows"
     ]
    }
   ],
   "source": [
    "# Cantidad de muertos por pais/region\n",
    "mundialDeathsNarrow.groupBy('Country/Region', 'value').sum().show(15)"
   ]
  },
  {
   "cell_type": "code",
   "execution_count": 64,
   "metadata": {},
   "outputs": [
    {
     "data": {
      "application/vnd.jupyter.widget-view+json": {
       "model_id": "9299e786be0346d1a7958c51647c625f",
       "version_major": 2,
       "version_minor": 0
      },
      "text/plain": [
       "VBox()"
      ]
     },
     "metadata": {},
     "output_type": "display_data"
    },
    {
     "data": {
      "application/vnd.jupyter.widget-view+json": {
       "model_id": "",
       "version_major": 2,
       "version_minor": 0
      },
      "text/plain": [
       "FloatProgress(value=0.0, bar_style='info', description='Progress:', layout=Layout(height='25px', width='50%'),…"
      ]
     },
     "metadata": {},
     "output_type": "display_data"
    },
    {
     "name": "stdout",
     "output_type": "stream",
     "text": [
      "root\n",
      " |-- ID de caso: integer (nullable = true)\n",
      " |-- Fecha de notificación: timestamp (nullable = true)\n",
      " |-- Codigo DIVIPOLA: integer (nullable = true)\n",
      " |-- Ciudad de ubicación: string (nullable = true)\n",
      " |-- Departamento o Distrito : string (nullable = true)\n",
      " |-- atención: string (nullable = true)\n",
      " |-- Edad: integer (nullable = true)\n",
      " |-- Sexo: string (nullable = true)\n",
      " |-- Tipo: string (nullable = true)\n",
      " |-- Estado: string (nullable = true)\n",
      " |-- País de procedencia: string (nullable = true)\n",
      " |-- FIS: string (nullable = true)\n",
      " |-- Fecha de muerte: string (nullable = true)\n",
      " |-- Fecha diagnostico: timestamp (nullable = true)\n",
      " |-- Fecha recuperado: string (nullable = true)\n",
      " |-- fecha reporte web: timestamp (nullable = true)"
     ]
    }
   ],
   "source": [
    "#printSchema\n",
    "colombia.printSchema()"
   ]
  },
  {
   "cell_type": "code",
   "execution_count": 65,
   "metadata": {},
   "outputs": [
    {
     "data": {
      "application/vnd.jupyter.widget-view+json": {
       "model_id": "974f347365d949ebb74f97e05a066ee9",
       "version_major": 2,
       "version_minor": 0
      },
      "text/plain": [
       "VBox()"
      ]
     },
     "metadata": {},
     "output_type": "display_data"
    },
    {
     "data": {
      "application/vnd.jupyter.widget-view+json": {
       "model_id": "",
       "version_major": 2,
       "version_minor": 0
      },
      "text/plain": [
       "FloatProgress(value=0.0, bar_style='info', description='Progress:', layout=Layout(height='25px', width='50%'),…"
      ]
     },
     "metadata": {},
     "output_type": "display_data"
    },
    {
     "name": "stdout",
     "output_type": "stream",
     "text": [
      "+----------+---------------------+---------------+-------------------+------------------------+----------+----+----+-----------+----------+--------------------+--------------------+---------------+-------------------+--------------------+-------------------+\n",
      "|ID de caso|Fecha de notificación|Codigo DIVIPOLA|Ciudad de ubicación|Departamento o Distrito |  atención|Edad|Sexo|       Tipo|    Estado| País de procedencia|                 FIS|Fecha de muerte|  Fecha diagnostico|    Fecha recuperado|  fecha reporte web|\n",
      "+----------+---------------------+---------------+-------------------+------------------------+----------+----+----+-----------+----------+--------------------+--------------------+---------------+-------------------+--------------------+-------------------+\n",
      "|         1|  2020-03-02 00:00:00|          11001|        Bogotá D.C.|             Bogotá D.C.|Recuperado|  19|   F|  Importado|Recuperado|              Italia|2020-02-27T00:00:...|          -   -|2020-03-06 00:00:00|2020-03-13T00:00:...|2020-03-06 00:00:00|\n",
      "|         2|  2020-03-06 00:00:00|          76111|Guadalajara de Buga|         Valle del Cauca|Recuperado|  34|   M|  Importado|Recuperado|              España|2020-03-04T00:00:...|          -   -|2020-03-09 00:00:00|2020-03-19T00:00:...|2020-03-09 00:00:00|\n",
      "|         3|  2020-03-07 00:00:00|           5001|           Medellín|               Antioquia|Recuperado|  50|   F|  Importado|Recuperado|              España|2020-02-29T00:00:...|          -   -|2020-03-09 00:00:00|2020-03-15T00:00:...|2020-03-09 00:00:00|\n",
      "|         4|  2020-03-09 00:00:00|           5001|           Medellín|               Antioquia|Recuperado|  55|   M|Relacionado|Recuperado|            Colombia|2020-03-06T00:00:...|          -   -|2020-03-11 00:00:00|2020-03-26T00:00:...|2020-03-11 00:00:00|\n",
      "|         5|  2020-03-09 00:00:00|           5001|           Medellín|               Antioquia|Recuperado|  25|   M|Relacionado|Recuperado|            Colombia|2020-03-08T00:00:...|          -   -|2020-03-11 00:00:00|2020-03-23T00:00:...|2020-03-11 00:00:00|\n",
      "|         6|  2020-03-10 00:00:00|           5360|             Itagüí|               Antioquia|Recuperado|  27|   F|Relacionado|Recuperado|            Colombia|2020-03-06T00:00:...|          -   -|2020-03-11 00:00:00|2020-03-26T00:00:...|2020-03-11 00:00:00|\n",
      "|         7|  2020-03-08 00:00:00|          13001|Cartagena de Indias|     Cartagena D.T. y C.|Recuperado|  85|   F|  Importado|Recuperado|Estados Unidos de...|2020-03-02T00:00:...|          -   -|2020-03-11 00:00:00|2020-03-17T00:00:...|2020-03-11 00:00:00|\n",
      "|         8|  2020-03-09 00:00:00|          11001|        Bogotá D.C.|             Bogotá D.C.|Recuperado|  22|   F|  Importado|Recuperado|              España|2020-03-06T00:00:...|          -   -|2020-03-11 00:00:00|2020-03-21T00:00:...|2020-03-11 00:00:00|\n",
      "|         9|  2020-03-08 00:00:00|          11001|        Bogotá D.C.|             Bogotá D.C.|Recuperado|  28|   F|  Importado|Recuperado|              España|2020-03-07T00:00:...|          -   -|2020-03-11 00:00:00|2020-03-23T00:00:...|2020-03-11 00:00:00|\n",
      "|        10|  2020-03-12 00:00:00|          11001|        Bogotá D.C.|             Bogotá D.C.|Recuperado|  36|   F|  Importado|Recuperado|              España|2020-03-06T00:00:...|          -   -|2020-03-12 00:00:00|2020-03-21T00:00:...|2020-03-12 00:00:00|\n",
      "+----------+---------------------+---------------+-------------------+------------------------+----------+----+----+-----------+----------+--------------------+--------------------+---------------+-------------------+--------------------+-------------------+\n",
      "only showing top 10 rows"
     ]
    }
   ],
   "source": [
    "# Muestra las priemeras 10 filas\n",
    "colombia.show(10)"
   ]
  },
  {
   "cell_type": "code",
   "execution_count": 66,
   "metadata": {},
   "outputs": [
    {
     "data": {
      "application/vnd.jupyter.widget-view+json": {
       "model_id": "fdcb7add1ad24aa288d9fa17d6e4e345",
       "version_major": 2,
       "version_minor": 0
      },
      "text/plain": [
       "VBox()"
      ]
     },
     "metadata": {},
     "output_type": "display_data"
    },
    {
     "data": {
      "application/vnd.jupyter.widget-view+json": {
       "model_id": "",
       "version_major": 2,
       "version_minor": 0
      },
      "text/plain": [
       "FloatProgress(value=0.0, bar_style='info', description='Progress:', layout=Layout(height='25px', width='50%'),…"
      ]
     },
     "metadata": {},
     "output_type": "display_data"
    },
    {
     "name": "stdout",
     "output_type": "stream",
     "text": [
      "+----------+-------------------+\n",
      "|ID de caso|Ciudad de ubicación|\n",
      "+----------+-------------------+\n",
      "|         1|        Bogotá D.C.|\n",
      "|         2|Guadalajara de Buga|\n",
      "|         3|           Medellín|\n",
      "|         4|           Medellín|\n",
      "|         5|           Medellín|\n",
      "|         6|             Itagüí|\n",
      "|         7|Cartagena de Indias|\n",
      "|         8|        Bogotá D.C.|\n",
      "|         9|        Bogotá D.C.|\n",
      "|        10|        Bogotá D.C.|\n",
      "+----------+-------------------+\n",
      "only showing top 10 rows"
     ]
    }
   ],
   "source": [
    "# Número de casos que se han recuperado y en que ciudades\n",
    "colombia.filter(colombia['atención']=='Recuperado').select('ID de caso','Ciudad de ubicación').show(10)"
   ]
  },
  {
   "cell_type": "code",
   "execution_count": 67,
   "metadata": {},
   "outputs": [
    {
     "data": {
      "application/vnd.jupyter.widget-view+json": {
       "model_id": "a2ffbe72c3ae447f86fda78d08fb12d7",
       "version_major": 2,
       "version_minor": 0
      },
      "text/plain": [
       "VBox()"
      ]
     },
     "metadata": {},
     "output_type": "display_data"
    },
    {
     "data": {
      "application/vnd.jupyter.widget-view+json": {
       "model_id": "",
       "version_major": 2,
       "version_minor": 0
      },
      "text/plain": [
       "FloatProgress(value=0.0, bar_style='info', description='Progress:', layout=Layout(height='25px', width='50%'),…"
      ]
     },
     "metadata": {},
     "output_type": "display_data"
    },
    {
     "name": "stdout",
     "output_type": "stream",
     "text": [
      "+-------------------+-----+\n",
      "|Ciudad de ubicación|count|\n",
      "+-------------------+-----+\n",
      "|Bogotá D.C.        |4685 |\n",
      "|Cali               |1173 |\n",
      "|Villavicencio      |911  |\n",
      "|Cartagena de Indias|874  |\n",
      "|Leticia            |870  |\n",
      "|Barranquilla       |627  |\n",
      "|Soledad            |402  |\n",
      "|Medellín           |319  |\n",
      "|Santa Marta        |205  |\n",
      "|Pereira            |163  |\n",
      "+-------------------+-----+\n",
      "only showing top 10 rows"
     ]
    }
   ],
   "source": [
    "# Numero de casos por ciudad ordenados de forma descendentes\n",
    "colombia.groupBy('Ciudad de ubicación').count().orderBy('count',ascending=False).show(10,False)"
   ]
  },
  {
   "cell_type": "code",
   "execution_count": 72,
   "metadata": {},
   "outputs": [
    {
     "data": {
      "application/vnd.jupyter.widget-view+json": {
       "model_id": "f30fee9a874a48e889bad743ef71158c",
       "version_major": 2,
       "version_minor": 0
      },
      "text/plain": [
       "VBox()"
      ]
     },
     "metadata": {},
     "output_type": "display_data"
    },
    {
     "data": {
      "application/vnd.jupyter.widget-view+json": {
       "model_id": "",
       "version_major": 2,
       "version_minor": 0
      },
      "text/plain": [
       "FloatProgress(value=0.0, bar_style='info', description='Progress:', layout=Layout(height='25px', width='50%'),…"
      ]
     },
     "metadata": {},
     "output_type": "display_data"
    },
    {
     "name": "stdout",
     "output_type": "stream",
     "text": [
      "+-------------------+-----+\n",
      "|Ciudad de ubicación|count|\n",
      "+-------------------+-----+\n",
      "|           Montería|    1|\n",
      "|           El Dovio|    1|\n",
      "|       Cundinamarca|    1|\n",
      "|           Norcasia|    1|\n",
      "|            Garagoa|    1|\n",
      "|   Barranco de Loba|    1|\n",
      "|              Tuluá|    3|\n",
      "|              Pasto|    4|\n",
      "|      Puerto Nariño|    1|\n",
      "|            Ginebra|    1|\n",
      "| San Juan del Cesar|    1|\n",
      "|              Neiva|    5|\n",
      "|             Ibagué|    3|\n",
      "|    Barrancabermeja|    1|\n",
      "|        Bucaramanga|    1|\n",
      "+-------------------+-----+\n",
      "only showing top 15 rows"
     ]
    }
   ],
   "source": [
    "# Número de fallecidos hay por ciudad\n",
    "colombia.filter(colombia['Estado']=='Fallecido').groupBy('Ciudad de ubicación').count().show(15)"
   ]
  },
  {
   "cell_type": "code",
   "execution_count": null,
   "metadata": {},
   "outputs": [],
   "source": []
  }
 ],
 "metadata": {
  "kernelspec": {
   "display_name": "PySpark",
   "language": "",
   "name": "pysparkkernel"
  },
  "language_info": {
   "codemirror_mode": {
    "name": "python",
    "version": 2
   },
   "mimetype": "text/x-python",
   "name": "pyspark",
   "pygments_lexer": "python2"
  }
 },
 "nbformat": 4,
 "nbformat_minor": 4
}
